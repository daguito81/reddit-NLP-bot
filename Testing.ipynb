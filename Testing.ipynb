{
 "cells": [
  {
   "cell_type": "code",
   "execution_count": null,
   "metadata": {},
   "outputs": [],
   "source": [
    "import nltk\n",
    "from textblob import TextBlob"
   ]
  },
  {
   "cell_type": "markdown",
   "metadata": {},
   "source": [
    "### Using TextBlob to calculte sentiment"
   ]
  },
  {
   "cell_type": "markdown",
   "metadata": {},
   "source": [
    "#### Positive Test"
   ]
  },
  {
   "cell_type": "code",
   "execution_count": null,
   "metadata": {},
   "outputs": [],
   "source": [
    "string1 = \"You are a great person\""
   ]
  },
  {
   "cell_type": "code",
   "execution_count": null,
   "metadata": {},
   "outputs": [],
   "source": [
    "blob1 = TextBlob(string1)"
   ]
  },
  {
   "cell_type": "code",
   "execution_count": null,
   "metadata": {},
   "outputs": [],
   "source": [
    "blob1.sentiment"
   ]
  },
  {
   "cell_type": "markdown",
   "metadata": {},
   "source": [
    "#### Negative Test"
   ]
  },
  {
   "cell_type": "code",
   "execution_count": null,
   "metadata": {},
   "outputs": [],
   "source": [
    "string2 = \"These are horrible times\"\n",
    "blob2 = TextBlob(string2)\n",
    "blob2.sentiment"
   ]
  },
  {
   "cell_type": "markdown",
   "metadata": {},
   "source": [
    "### Mixture test"
   ]
  },
  {
   "cell_type": "code",
   "execution_count": null,
   "metadata": {},
   "outputs": [],
   "source": [
    "string3 = \"You are a bad person, but you are also my brother, therefore I love you\""
   ]
  },
  {
   "cell_type": "code",
   "execution_count": null,
   "metadata": {},
   "outputs": [],
   "source": [
    "blob3 = TextBlob(string3)\n",
    "blob3.sentiment"
   ]
  },
  {
   "cell_type": "markdown",
   "metadata": {},
   "source": [
    "# Reddit"
   ]
  },
  {
   "cell_type": "code",
   "execution_count": 2,
   "metadata": {},
   "outputs": [],
   "source": [
    "import praw"
   ]
  },
  {
   "cell_type": "code",
   "execution_count": 3,
   "metadata": {},
   "outputs": [],
   "source": [
    "reddit = praw.Reddit('test-bot')"
   ]
  },
  {
   "cell_type": "code",
   "execution_count": 4,
   "metadata": {},
   "outputs": [],
   "source": [
    "subreddit = reddit.subreddit(\"ffxiv\")"
   ]
  },
  {
   "cell_type": "code",
   "execution_count": null,
   "metadata": {},
   "outputs": [],
   "source": [
    "test_sub = subreddit.hot(limit=5)"
   ]
  },
  {
   "cell_type": "code",
   "execution_count": null,
   "metadata": {},
   "outputs": [],
   "source": [
    "test = test_sub.next()"
   ]
  },
  {
   "cell_type": "code",
   "execution_count": null,
   "metadata": {},
   "outputs": [],
   "source": [
    "for post in test_sub:\n",
    "    print(\"------------------\")\n",
    "    print(\"Title: \", post.title)\n",
    "    print(\"Text: \", post.selftext)\n",
    "    print(\"Author: \", post.author)\n",
    "    print(\"Score: \", post.score)"
   ]
  },
  {
   "cell_type": "markdown",
   "metadata": {},
   "source": [
    "## Comments"
   ]
  },
  {
   "cell_type": "code",
   "execution_count": 21,
   "metadata": {},
   "outputs": [],
   "source": [
    "import nltk\n",
    "from textblob import TextBlob\n",
    "import pandas as pd\n",
    "import time\n",
    "import praw"
   ]
  },
  {
   "cell_type": "code",
   "execution_count": 30,
   "metadata": {},
   "outputs": [],
   "source": [
    "reddit = praw.Reddit('test-bot')"
   ]
  },
  {
   "cell_type": "code",
   "execution_count": 31,
   "metadata": {},
   "outputs": [],
   "source": [
    "subreddit = reddit.subreddit(\"politics\")"
   ]
  },
  {
   "cell_type": "code",
   "execution_count": 32,
   "metadata": {},
   "outputs": [],
   "source": [
    "results = pd.DataFrame(columns=['Comment_ID', 'Body', 'Controversiality', 'Comment_Date',\n",
    "                                'Comment_Score', 'Polarity', 'Subjectivity',\n",
    "                                'Author', 'Author_flair_text', 'Author_LKarma', 'Author_CKarma', 'Author_Date',\n",
    "                                'Submission_ID', 'Submission_title', 'Submission_Date',\n",
    "                                'Submission_Title_Polarity', 'Submission_Title_Subjectivity',\n",
    "                                'Submission_Score', 'Submission_Author', 'Submission_Author_LKarma',\n",
    "                                'Submission_Author_CKarma', 'Submission_Author_Date', 'Subreddit',\n",
    "                                ])"
   ]
  },
  {
   "cell_type": "code",
   "execution_count": 33,
   "metadata": {},
   "outputs": [
    {
     "name": "stdout",
     "output_type": "stream",
     "text": [
      "Found a negative comment\n",
      "Found a negative comment\n",
      "Found a negative comment\n",
      "Found a negative comment\n",
      "Found a negative comment\n",
      "Found a negative comment\n",
      "Found a negative comment\n",
      "Found a negative comment\n",
      "Found a negative comment\n",
      "Found a negative comment\n",
      "Found a negative comment\n",
      "Found a negative comment\n",
      "Found a negative comment\n",
      "Found a negative comment\n",
      "Found a negative comment\n",
      "Found a negative comment\n",
      "Found a negative comment\n",
      "Found a negative comment\n",
      "Found a negative comment\n",
      "Found a negative comment\n",
      "Found a negative comment\n",
      "Found a negative comment\n",
      "Found a negative comment\n",
      "Found a negative comment\n",
      "Found a negative comment\n",
      "Found a negative comment\n",
      "Found a negative comment\n",
      "Found a negative comment\n",
      "Found a negative comment\n",
      "Found a negative comment\n",
      "Found a negative comment\n"
     ]
    }
   ],
   "source": [
    "i = len(results)\n",
    "for comment_tracker in subreddit.stream.comments():\n",
    "    \n",
    "    comment_sentiment = TextBlob(comment_tracker.body).sentiment\n",
    "    thread_title_sentimet = TextBlob(comment_tracker.submission.title).sentiment\n",
    "    \n",
    "    if comment_sentiment[0] < 0.2:\n",
    "        print(\"Found a negative comment\")\n",
    "        results.loc[i, 'Comment_ID'] = comment_tracker.id\n",
    "        results.loc[i, 'Body'] = comment_tracker.body\n",
    "        results.loc[i, 'Controversiality'] = comment_tracker.controversiality\n",
    "        results.loc[i, 'Comment_Date'] = comment_tracker.created_utc\n",
    "        results.loc[i, 'Comment_Score'] = comment_tracker.score\n",
    "        results.loc[i, 'Polarity'] = comment_sentiment[0]\n",
    "        results.loc[i, 'Subjectivity'] = comment_sentiment[1]\n",
    "                \n",
    "        results.loc[i, 'Author'] = comment_tracker.author.name\n",
    "        results.loc[i, 'Author_flair_text'] = comment_tracker.author_flair_text\n",
    "        results.loc[i, 'Author_LKarma'] = comment_tracker.author.link_karma\n",
    "        results.loc[i, 'Author_CKarma'] = comment_tracker.author.comment_karma\n",
    "        results.loc[i, 'Author_Date'] = comment_tracker.author.created_utc\n",
    "        \n",
    "        results.loc[i, 'Submission_ID'] = comment_tracker.submission.id\n",
    "        results.loc[i, 'Submission_title'] = comment_tracker.submission.title\n",
    "        results.loc[i, 'Submission_Date'] = comment_tracker.submission.created_utc\n",
    "        results.loc[i, 'Submission_Title_Polarity'] = thread_title_sentimet[0]\n",
    "        results.loc[i, 'Submission_Title_Subjectivity'] = thread_title_sentimet[1]\n",
    "        results.loc[i, 'Submission_Score'] = comment_tracker.submission.score\n",
    "        \n",
    "        results.loc[i, 'Submission_Author'] = comment_tracker.submission.author\n",
    "        results.loc[i, 'Submission_Author_LKarma'] = comment_tracker.submission.author.link_karma\n",
    "        results.loc[i, 'Submission_Author_CKarma'] = comment_tracker.submission.author.comment_karma\n",
    "        results.loc[i, 'Submission_Author_Date'] = comment_tracker.submission.author.created_utc\n",
    "        results.loc[i, 'Subreddit'] = comment_tracker.subreddit.display_name\n",
    "        \n",
    "        i += 1\n",
    "        if i > 30:\n",
    "            break"
   ]
  },
  {
   "cell_type": "code",
   "execution_count": 35,
   "metadata": {},
   "outputs": [
    {
     "data": {
      "text/html": [
       "<div>\n",
       "<style scoped>\n",
       "    .dataframe tbody tr th:only-of-type {\n",
       "        vertical-align: middle;\n",
       "    }\n",
       "\n",
       "    .dataframe tbody tr th {\n",
       "        vertical-align: top;\n",
       "    }\n",
       "\n",
       "    .dataframe thead th {\n",
       "        text-align: right;\n",
       "    }\n",
       "</style>\n",
       "<table border=\"1\" class=\"dataframe\">\n",
       "  <thead>\n",
       "    <tr style=\"text-align: right;\">\n",
       "      <th></th>\n",
       "      <th>Comment_ID</th>\n",
       "      <th>Body</th>\n",
       "      <th>Controversiality</th>\n",
       "      <th>Comment_Date</th>\n",
       "      <th>Comment_Score</th>\n",
       "      <th>Polarity</th>\n",
       "      <th>Subjectivity</th>\n",
       "      <th>Author</th>\n",
       "      <th>Author_flair_text</th>\n",
       "      <th>Author_LKarma</th>\n",
       "      <th>...</th>\n",
       "      <th>Submission_title</th>\n",
       "      <th>Submission_Date</th>\n",
       "      <th>Submission_Title_Polarity</th>\n",
       "      <th>Submission_Title_Subjectivity</th>\n",
       "      <th>Submission_Score</th>\n",
       "      <th>Submission_Author</th>\n",
       "      <th>Submission_Author_LKarma</th>\n",
       "      <th>Submission_Author_CKarma</th>\n",
       "      <th>Submission_Author_Date</th>\n",
       "      <th>Subreddit</th>\n",
       "    </tr>\n",
       "  </thead>\n",
       "  <tbody>\n",
       "    <tr>\n",
       "      <th>0</th>\n",
       "      <td>em5w8wc</td>\n",
       "      <td>It ain't me, it ain't me, I ain't no Senator's...</td>\n",
       "      <td>0</td>\n",
       "      <td>1.55665e+09</td>\n",
       "      <td>1</td>\n",
       "      <td>0</td>\n",
       "      <td>0</td>\n",
       "      <td>radiofever</td>\n",
       "      <td>None</td>\n",
       "      <td>202</td>\n",
       "      <td>...</td>\n",
       "      <td>Rick Scott calls for U.S. military interventio...</td>\n",
       "      <td>1.55665e+09</td>\n",
       "      <td>-0.1</td>\n",
       "      <td>0.1</td>\n",
       "      <td>1</td>\n",
       "      <td>skye_kunhavigi</td>\n",
       "      <td>11127</td>\n",
       "      <td>45</td>\n",
       "      <td>1.55598e+09</td>\n",
       "      <td>politics</td>\n",
       "    </tr>\n",
       "    <tr>\n",
       "      <th>1</th>\n",
       "      <td>em5w8xr</td>\n",
       "      <td>How are suicides caused by excessive gun owner...</td>\n",
       "      <td>0</td>\n",
       "      <td>1.55665e+09</td>\n",
       "      <td>1</td>\n",
       "      <td>-0.25</td>\n",
       "      <td>1</td>\n",
       "      <td>YotaIamYourDriver</td>\n",
       "      <td>None</td>\n",
       "      <td>1245</td>\n",
       "      <td>...</td>\n",
       "      <td>It’s no coincidence the synagogue shooter post...</td>\n",
       "      <td>1.55664e+09</td>\n",
       "      <td>0</td>\n",
       "      <td>0</td>\n",
       "      <td>1049</td>\n",
       "      <td>Hoxha_Posadist</td>\n",
       "      <td>233959</td>\n",
       "      <td>39142</td>\n",
       "      <td>1.53288e+09</td>\n",
       "      <td>politics</td>\n",
       "    </tr>\n",
       "    <tr>\n",
       "      <th>2</th>\n",
       "      <td>em5w8zt</td>\n",
       "      <td>Once we impeach Barr we can impeach Trump and ...</td>\n",
       "      <td>0</td>\n",
       "      <td>1.55665e+09</td>\n",
       "      <td>1</td>\n",
       "      <td>0</td>\n",
       "      <td>0</td>\n",
       "      <td>KEK2020</td>\n",
       "      <td>:flag-us: America</td>\n",
       "      <td>27</td>\n",
       "      <td>...</td>\n",
       "      <td>Bill Barr could well be the most odious of Don...</td>\n",
       "      <td>1.55664e+09</td>\n",
       "      <td>0.5</td>\n",
       "      <td>0.5</td>\n",
       "      <td>440</td>\n",
       "      <td>ToughPack19</td>\n",
       "      <td>493</td>\n",
       "      <td>61</td>\n",
       "      <td>1.53304e+09</td>\n",
       "      <td>politics</td>\n",
       "    </tr>\n",
       "    <tr>\n",
       "      <th>3</th>\n",
       "      <td>em5w93i</td>\n",
       "      <td>Privatized proxy war is a bad idea.</td>\n",
       "      <td>0</td>\n",
       "      <td>1.55665e+09</td>\n",
       "      <td>1</td>\n",
       "      <td>-0.7</td>\n",
       "      <td>0.666667</td>\n",
       "      <td>abelabelabel</td>\n",
       "      <td>None</td>\n",
       "      <td>1179</td>\n",
       "      <td>...</td>\n",
       "      <td>Exclusive - Blackwater founder’s latest sales ...</td>\n",
       "      <td>1.55665e+09</td>\n",
       "      <td>0.5</td>\n",
       "      <td>0.9</td>\n",
       "      <td>11</td>\n",
       "      <td>casualphilosopher1</td>\n",
       "      <td>394247</td>\n",
       "      <td>82169</td>\n",
       "      <td>1.53226e+09</td>\n",
       "      <td>politics</td>\n",
       "    </tr>\n",
       "    <tr>\n",
       "      <th>4</th>\n",
       "      <td>em5w94g</td>\n",
       "      <td>We don't call everyone racist.</td>\n",
       "      <td>0</td>\n",
       "      <td>1.55665e+09</td>\n",
       "      <td>1</td>\n",
       "      <td>0</td>\n",
       "      <td>0</td>\n",
       "      <td>superluminal-driver</td>\n",
       "      <td>:flag-mi: Michigan</td>\n",
       "      <td>69</td>\n",
       "      <td>...</td>\n",
       "      <td>It’s no coincidence the synagogue shooter post...</td>\n",
       "      <td>1.55664e+09</td>\n",
       "      <td>0</td>\n",
       "      <td>0</td>\n",
       "      <td>1050</td>\n",
       "      <td>Hoxha_Posadist</td>\n",
       "      <td>233960</td>\n",
       "      <td>39142</td>\n",
       "      <td>1.53288e+09</td>\n",
       "      <td>politics</td>\n",
       "    </tr>\n",
       "  </tbody>\n",
       "</table>\n",
       "<p>5 rows × 23 columns</p>\n",
       "</div>"
      ],
      "text/plain": [
       "  Comment_ID                                               Body  \\\n",
       "0    em5w8wc  It ain't me, it ain't me, I ain't no Senator's...   \n",
       "1    em5w8xr  How are suicides caused by excessive gun owner...   \n",
       "2    em5w8zt  Once we impeach Barr we can impeach Trump and ...   \n",
       "3    em5w93i                Privatized proxy war is a bad idea.   \n",
       "4    em5w94g                     We don't call everyone racist.   \n",
       "\n",
       "  Controversiality Comment_Date Comment_Score Polarity Subjectivity  \\\n",
       "0                0  1.55665e+09             1        0            0   \n",
       "1                0  1.55665e+09             1    -0.25            1   \n",
       "2                0  1.55665e+09             1        0            0   \n",
       "3                0  1.55665e+09             1     -0.7     0.666667   \n",
       "4                0  1.55665e+09             1        0            0   \n",
       "\n",
       "                Author   Author_flair_text Author_LKarma    ...     \\\n",
       "0           radiofever                None           202    ...      \n",
       "1    YotaIamYourDriver                None          1245    ...      \n",
       "2              KEK2020   :flag-us: America            27    ...      \n",
       "3         abelabelabel                None          1179    ...      \n",
       "4  superluminal-driver  :flag-mi: Michigan            69    ...      \n",
       "\n",
       "                                    Submission_title Submission_Date  \\\n",
       "0  Rick Scott calls for U.S. military interventio...     1.55665e+09   \n",
       "1  It’s no coincidence the synagogue shooter post...     1.55664e+09   \n",
       "2  Bill Barr could well be the most odious of Don...     1.55664e+09   \n",
       "3  Exclusive - Blackwater founder’s latest sales ...     1.55665e+09   \n",
       "4  It’s no coincidence the synagogue shooter post...     1.55664e+09   \n",
       "\n",
       "  Submission_Title_Polarity Submission_Title_Subjectivity Submission_Score  \\\n",
       "0                      -0.1                           0.1                1   \n",
       "1                         0                             0             1049   \n",
       "2                       0.5                           0.5              440   \n",
       "3                       0.5                           0.9               11   \n",
       "4                         0                             0             1050   \n",
       "\n",
       "    Submission_Author Submission_Author_LKarma Submission_Author_CKarma  \\\n",
       "0      skye_kunhavigi                    11127                       45   \n",
       "1      Hoxha_Posadist                   233959                    39142   \n",
       "2         ToughPack19                      493                       61   \n",
       "3  casualphilosopher1                   394247                    82169   \n",
       "4      Hoxha_Posadist                   233960                    39142   \n",
       "\n",
       "  Submission_Author_Date Subreddit  \n",
       "0            1.55598e+09  politics  \n",
       "1            1.53288e+09  politics  \n",
       "2            1.53304e+09  politics  \n",
       "3            1.53226e+09  politics  \n",
       "4            1.53288e+09  politics  \n",
       "\n",
       "[5 rows x 23 columns]"
      ]
     },
     "execution_count": 35,
     "metadata": {},
     "output_type": "execute_result"
    }
   ],
   "source": [
    "results.head()"
   ]
  },
  {
   "cell_type": "code",
   "execution_count": 37,
   "metadata": {},
   "outputs": [],
   "source": [
    "import seaborn as sns"
   ]
  },
  {
   "cell_type": "code",
   "execution_count": 38,
   "metadata": {},
   "outputs": [
    {
     "data": {
      "text/plain": [
       "<matplotlib.axes._subplots.AxesSubplot at 0x1c720b60320>"
      ]
     },
     "execution_count": 38,
     "metadata": {},
     "output_type": "execute_result"
    },
    {
     "data": {
      "image/png": "[encoded data removed]",
      "text/plain": [
       "<Figure size 432x288 with 2 Axes>"
      ]
     },
     "metadata": {},
     "output_type": "display_data"
    }
   ],
   "source": [
    "sns.heatmap(results.isnull(), yticklabels=False)"
   ]
  },
  {
   "cell_type": "code",
   "execution_count": null,
   "metadata": {},
   "outputs": [],
   "source": []
  },
  {
   "cell_type": "code",
   "execution_count": null,
   "metadata": {},
   "outputs": [],
   "source": []
  },
  {
   "cell_type": "code",
   "execution_count": null,
   "metadata": {},
   "outputs": [],
   "source": []
  },
  {
   "cell_type": "code",
   "execution_count": null,
   "metadata": {},
   "outputs": [],
   "source": []
  }
 ],
 "metadata": {
  "kernelspec": {
   "display_name": "Python [conda env:basicdata]",
   "language": "python",
   "name": "conda-env-basicdata-py"
  },
  "language_info": {
   "codemirror_mode": {
    "name": "ipython",
    "version": 3
   },
   "file_extension": ".py",
   "mimetype": "text/x-python",
   "name": "python",
   "nbconvert_exporter": "python",
   "pygments_lexer": "ipython3",
   "version": "3.6.6"
  }
 },
 "nbformat": 4,
 "nbformat_minor": 2
}
