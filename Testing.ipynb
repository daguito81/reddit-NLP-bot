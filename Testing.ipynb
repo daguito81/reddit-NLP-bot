{
 "cells": [
  {
   "cell_type": "code",
   "execution_count": 1,
   "metadata": {},
   "outputs": [],
   "source": [
    "import nltk\n",
    "from textblob import TextBlob"
   ]
  },
  {
   "cell_type": "markdown",
   "metadata": {},
   "source": [
    "### Using TextBlob to calculte sentiment"
   ]
  },
  {
   "cell_type": "markdown",
   "metadata": {},
   "source": [
    "#### Positive Test"
   ]
  },
  {
   "cell_type": "code",
   "execution_count": 2,
   "metadata": {},
   "outputs": [],
   "source": [
    "string1 = \"You are a great person\""
   ]
  },
  {
   "cell_type": "code",
   "execution_count": 3,
   "metadata": {},
   "outputs": [],
   "source": [
    "blob1 = TextBlob(string1)"
   ]
  },
  {
   "cell_type": "code",
   "execution_count": 4,
   "metadata": {},
   "outputs": [
    {
     "data": {
      "text/plain": [
       "Sentiment(polarity=0.8, subjectivity=0.75)"
      ]
     },
     "execution_count": 4,
     "metadata": {},
     "output_type": "execute_result"
    }
   ],
   "source": [
    "blob1.sentiment"
   ]
  },
  {
   "cell_type": "markdown",
   "metadata": {},
   "source": [
    "#### Negative Test"
   ]
  },
  {
   "cell_type": "code",
   "execution_count": 5,
   "metadata": {},
   "outputs": [
    {
     "data": {
      "text/plain": [
       "Sentiment(polarity=-1.0, subjectivity=1.0)"
      ]
     },
     "execution_count": 5,
     "metadata": {},
     "output_type": "execute_result"
    }
   ],
   "source": [
    "string2 = \"These are horrible times\"\n",
    "blob2 = TextBlob(string2)\n",
    "blob2.sentiment"
   ]
  },
  {
   "cell_type": "markdown",
   "metadata": {},
   "source": [
    "### Mixture test"
   ]
  },
  {
   "cell_type": "code",
   "execution_count": 6,
   "metadata": {},
   "outputs": [],
   "source": [
    "string3 = \"You are a bad person, but you are also my brother, therefore I love you\""
   ]
  },
  {
   "cell_type": "code",
   "execution_count": 7,
   "metadata": {},
   "outputs": [
    {
     "data": {
      "text/plain": [
       "Sentiment(polarity=-0.09999999999999992, subjectivity=0.6333333333333333)"
      ]
     },
     "execution_count": 7,
     "metadata": {},
     "output_type": "execute_result"
    }
   ],
   "source": [
    "blob3 = TextBlob(string3)\n",
    "blob3.sentiment"
   ]
  },
  {
   "cell_type": "markdown",
   "metadata": {},
   "source": [
    "# Reddit"
   ]
  },
  {
   "cell_type": "code",
   "execution_count": 9,
   "metadata": {},
   "outputs": [],
   "source": [
    "import praw"
   ]
  },
  {
   "cell_type": "code",
   "execution_count": 10,
   "metadata": {},
   "outputs": [],
   "source": [
    "reddit = praw.Reddit('test-bot')"
   ]
  },
  {
   "cell_type": "code",
   "execution_count": 11,
   "metadata": {},
   "outputs": [],
   "source": [
    "subreddit = reddit.subreddit(\"datascience\")"
   ]
  },
  {
   "cell_type": "code",
   "execution_count": 12,
   "metadata": {},
   "outputs": [],
   "source": [
    "test_sub = subreddit.hot(limit=5)"
   ]
  },
  {
   "cell_type": "code",
   "execution_count": 13,
   "metadata": {},
   "outputs": [
    {
     "name": "stdout",
     "output_type": "stream",
     "text": [
      "------------------\n",
      "Title:  Weekly Entering & Transitioning Thread | 28 Apr 2019 - 05 May 2019\n",
      "Text:  Welcome to this week's entering & transitioning thread! This thread is for any questions about getting started, studying, or transitioning into the data science field. Topics include:\n",
      "\n",
      "* Learning resources (e.g. books, tutorials, videos)  \n",
      "* Traditional education (e.g. schools, degrees, electives)  \n",
      "* Alternative education (e.g. online courses, bootcamps)  \n",
      "* Job search questions (e.g. resumes, applying, career prospects)  \n",
      "* Elementary questions (e.g. where to start, what next)  \n",
      "\n",
      "While you wait for answers from the community, check out the [FAQ](https://www.reddit.com/r/datascience/wiki/frequently-asked-questions) and [Resources](https://www.reddit.com/r/datascience/wiki/resources) pages on our wiki.  \n",
      "\n",
      "[You can also search for past weekly threads here](https://www.reddit.com/r/datascience/search?q=weekly%20thread&restrict_sr=1&t=month).\n",
      "\n",
      "^(Last configured: 2019-02-17 09:32 AM EDT)\n",
      "Author:  AutoModerator\n",
      "Score:  4\n",
      "------------------\n",
      "Title:  Last week, I asked about your academic backgrounds. Here are some visualizations from what your responses!\n",
      "Text:  \n",
      "Author:  lls1494\n",
      "Score:  234\n",
      "------------------\n",
      "Title:  Be honest, how many of you *actually* know the maths behind what you’re doing?\n",
      "Text:  Don’t be shy. I have a cs background. Traditional math and proofs ain’t my forté. All I know is  the tools and  how to use them. \n",
      "\n",
      "Is this bad? Or should we arrive to understand some of the maths behind what we do?\n",
      "Author:  abdolfhitcoln420\n",
      "Score:  3\n",
      "------------------\n",
      "Title:  Need advice on leveraging chatbot data\n",
      "Text:  Hey everyone,\n",
      "\n",
      "I'm currently working on a chatbot being implemented at my company. It's in the healthcare industry so it's very complex. Users can type into the bot or use a button based journey to get where they need to go. I work on the business side of things (Digital Analyst). Our bot gives us an excel spreadsheet of the chat logs. \n",
      "\n",
      "Here's what's included in the spreadsheet:\n",
      "\n",
      "- Date\n",
      "- IP address\n",
      "- Session ID\n",
      "- Username\n",
      "- What user typed in the bot or what button they clicked\n",
      "- The bot's response\n",
      "- The confidence score generated by our AI platform\n",
      "- Where they accessed the bot from \n",
      "- Main intent triggered by the user\n",
      "\n",
      "So far I've been looking line-by-line at the spreadsheet looking at how well each interaction went. I've created 3 failure categories that I flag in the spreadsheet.\n",
      "- Unsupported intent: user asks for something the bot doesn't support yet\n",
      "- Intent confusion: bot was confused by what user entered\n",
      "- Unsatisfactory response: the content returned was technically the correct response but the user wasn't satisfied.\n",
      "\n",
      "Those 3 categories give us insight into how the bot is performing and shows us content gaps that we may have. We also use this chat log to inform training data improvements.\n",
      "\n",
      "What could/should I be looking at in these logs? I want this chat log to be as useful as possible.\n",
      "Author:  Keithhhhh\n",
      "Score:  3\n",
      "------------------\n",
      "Title:  What are some approaches to marketing attribution modeling?\n",
      "Text:  Just curious of what other people are doing here, since marketing is a big field with a lot of data.\n",
      "\n",
      "&#x200B;\n",
      "\n",
      "With digital, a lot of attribution is based on clicks rather than inference. Nevertheless, there are things like offline advertising such as TV or radio, as well as users who see an add online but might visit the website and transact directly, thereby skipping the click based attrbution.\n",
      "\n",
      "&#x200B;\n",
      "\n",
      "Suppose I have a dataset with marketing spend across various channels, including both digital and offline channels e.g. Youtube, Facebook, Radio, TV, Paid Search. If the dataset has, for each day, the spend on each channel along with the number of site visits and transactions, which model or approach would you use to explain transactions as a function of the other channels?\n",
      "\n",
      "&#x200B;\n",
      "\n",
      "For me a simple multiple regression came to mind but I wondered if there are approaches beyond this? Or any gotchas that others have encountered? Or just any tips for a project like this?\n",
      "\n",
      "&#x200B;\n",
      "\n",
      "The goal is to understand the incremental effect of each marketing channel with a view to eventually inferring a ROI for each dollar spent on each marketing channel.\n",
      "Author:  dougMcfir\n",
      "Score:  3\n"
     ]
    }
   ],
   "source": [
    "for post in test_sub:\n",
    "    print(\"------------------\")\n",
    "    print(\"Title: \", post.title)\n",
    "    print(\"Text: \", post.selftext)\n",
    "    print(\"Author: \", post.author)\n",
    "    print(\"Score: \", post.score)"
   ]
  },
  {
   "cell_type": "markdown",
   "metadata": {},
   "source": [
    "## Comments"
   ]
  },
  {
   "cell_type": "code",
   "execution_count": 34,
   "metadata": {},
   "outputs": [],
   "source": [
    "import nltk\n",
    "from textblob import TextBlob\n",
    "import pandas as pd\n",
    "import time\n",
    "import praw"
   ]
  },
  {
   "cell_type": "code",
   "execution_count": 35,
   "metadata": {},
   "outputs": [],
   "source": [
    "reddit = praw.Reddit('test-bot')"
   ]
  },
  {
   "cell_type": "code",
   "execution_count": 36,
   "metadata": {},
   "outputs": [],
   "source": [
    "subreddit = reddit.subreddit(\"politics\")"
   ]
  },
  {
   "cell_type": "code",
   "execution_count": 50,
   "metadata": {},
   "outputs": [],
   "source": [
    "test_sub = subreddit.hot(limit=1).next()"
   ]
  },
  {
   "cell_type": "code",
   "execution_count": 55,
   "metadata": {},
   "outputs": [],
   "source": [
    "test_comment = test_sub.comments[0]"
   ]
  },
  {
   "cell_type": "code",
   "execution_count": 58,
   "metadata": {},
   "outputs": [
    {
     "name": "stdout",
     "output_type": "stream",
     "text": [
      "<class 'str'>\n",
      "<class 'int'>\n"
     ]
    }
   ],
   "source": [
    "print(type(test_comment.body))\n",
    "print(type(test_comment.score))"
   ]
  },
  {
   "cell_type": "code",
   "execution_count": 91,
   "metadata": {},
   "outputs": [
    {
     "data": {
      "text/plain": [
       "'sheepsleepdeep'"
      ]
     },
     "execution_count": 91,
     "metadata": {},
     "output_type": "execute_result"
    }
   ],
   "source": [
    "test_comment.author.name"
   ]
  },
  {
   "cell_type": "code",
   "execution_count": 59,
   "metadata": {},
   "outputs": [],
   "source": [
    "results = pd.DataFrame(columns=['Comment_ID', 'Body', 'Controversiality', 'Comment_Date',\n",
    "                                'Comment_Score', 'Polarity', 'Subjectivity',\n",
    "                                'Author', 'Author_flair_text', 'Author_LKarma', 'Author_CKarma', 'Author_Date',\n",
    "                                'Submission_ID', 'Submission_title', 'Submission_Date',\n",
    "                                'Submission_Title_Polarity', 'Submission_Title_Subjectivity',\n",
    "                                'Submission_Score', 'Submission_Author', 'Submission_Author_LKarma',\n",
    "                                'Submission_Author_CKarma', 'Submission_Author_Date', 'Subreddit',\n",
    "                                ])"
   ]
  },
  {
   "cell_type": "code",
   "execution_count": 92,
   "metadata": {},
   "outputs": [],
   "source": [
    "results = pd.DataFrame()"
   ]
  },
  {
   "cell_type": "code",
   "execution_count": 93,
   "metadata": {},
   "outputs": [
    {
     "name": "stdout",
     "output_type": "stream",
     "text": [
      "Found a negative comment\n",
      "Found a negative comment\n",
      "Found a negative comment\n",
      "Found a negative comment\n",
      "Found a negative comment\n",
      "Found a negative comment\n"
     ]
    }
   ],
   "source": [
    "i = len(results)\n",
    "for comment_tracker in subreddit.stream.comments():\n",
    "    \n",
    "    comment_sentiment = TextBlob(comment_tracker.body).sentiment\n",
    "    thread_title_sentimet = TextBlob(comment_tracker.submission.title).sentiment\n",
    "    \n",
    "    if comment_sentiment[0] < -0.2:\n",
    "        print(\"Found a negative comment\")\n",
    "        results.loc[i, 'Comment_ID'] = comment_tracker.id\n",
    "        results.loc[i, 'Body'] = comment_tracker.body\n",
    "        results.loc[i, 'Controversiality'] = comment_tracker.controversiality\n",
    "        results.loc[i, 'Comment_Date'] = comment_tracker.created_utc\n",
    "        results.loc[i, 'Comment_Score'] = comment_tracker.score\n",
    "        results.loc[i, 'Polarity'] = comment_sentiment[0]\n",
    "        results.loc[i, 'Subjectivity'] = comment_sentiment[1]\n",
    "                \n",
    "        results.loc[i, 'Author'] = comment_tracker.author.name\n",
    "        results.loc[i, 'Author_flair_text'] = comment_tracker.author_flair_text\n",
    "        results.loc[i, 'Author_LKarma'] = comment_tracker.author.link_karma\n",
    "        results.loc[i, 'Author_CKarma'] = comment_tracker.author.comment_karma\n",
    "        results.loc[i, 'Author_Date'] = comment_tracker.author.created_utc\n",
    "        \n",
    "        results.loc[i, 'Submission_ID'] = comment_tracker.submission.id\n",
    "        results.loc[i, 'Submission_title'] = comment_tracker.submission.title\n",
    "        results.loc[i, 'Submission_Date'] = comment_tracker.submission.created_utc\n",
    "        results.loc[i, 'Submission_Title_Polarity'] = thread_title_sentimet[0]\n",
    "        results.loc[i, 'Submission_Title_Subjectivity'] = thread_title_sentimet[1]\n",
    "        results.loc[i, 'Submission_Score'] = comment_tracker.submission.score\n",
    "        \n",
    "        results.loc[i, 'Submission_Author'] = comment_tracker.submission.author.name\n",
    "        results.loc[i, 'Submission_Author_LKarma'] = comment_tracker.submission.author.link_karma\n",
    "        results.loc[i, 'Submission_Author_CKarma'] = comment_tracker.submission.author.comment_karma\n",
    "        results.loc[i, 'Submission_Author_Date'] = comment_tracker.submission.author.created_utc\n",
    "        results.loc[i, 'Subreddit'] = comment_tracker.subreddit.display_name\n",
    "        \n",
    "        i += 1\n",
    "        if i > 5:\n",
    "            break"
   ]
  },
  {
   "cell_type": "code",
   "execution_count": 94,
   "metadata": {},
   "outputs": [
    {
     "data": {
      "text/html": [
       "<div>\n",
       "<style scoped>\n",
       "    .dataframe tbody tr th:only-of-type {\n",
       "        vertical-align: middle;\n",
       "    }\n",
       "\n",
       "    .dataframe tbody tr th {\n",
       "        vertical-align: top;\n",
       "    }\n",
       "\n",
       "    .dataframe thead th {\n",
       "        text-align: right;\n",
       "    }\n",
       "</style>\n",
       "<table border=\"1\" class=\"dataframe\">\n",
       "  <thead>\n",
       "    <tr style=\"text-align: right;\">\n",
       "      <th></th>\n",
       "      <th>Comment_ID</th>\n",
       "      <th>Body</th>\n",
       "      <th>Controversiality</th>\n",
       "      <th>Comment_Date</th>\n",
       "      <th>Comment_Score</th>\n",
       "      <th>Polarity</th>\n",
       "      <th>Subjectivity</th>\n",
       "      <th>Author</th>\n",
       "      <th>Author_flair_text</th>\n",
       "      <th>Author_LKarma</th>\n",
       "      <th>...</th>\n",
       "      <th>Submission_title</th>\n",
       "      <th>Submission_Date</th>\n",
       "      <th>Submission_Title_Polarity</th>\n",
       "      <th>Submission_Title_Subjectivity</th>\n",
       "      <th>Submission_Score</th>\n",
       "      <th>Submission_Author</th>\n",
       "      <th>Submission_Author_LKarma</th>\n",
       "      <th>Submission_Author_CKarma</th>\n",
       "      <th>Submission_Author_Date</th>\n",
       "      <th>Subreddit</th>\n",
       "    </tr>\n",
       "  </thead>\n",
       "  <tbody>\n",
       "    <tr>\n",
       "      <th>0</th>\n",
       "      <td>em7jsjl</td>\n",
       "      <td>Make America Hate Again</td>\n",
       "      <td>0.0</td>\n",
       "      <td>1.556701e+09</td>\n",
       "      <td>1.0</td>\n",
       "      <td>-0.800000</td>\n",
       "      <td>0.900000</td>\n",
       "      <td>PunkToTheFuture</td>\n",
       "      <td>:flag-us: America</td>\n",
       "      <td>14.0</td>\n",
       "      <td>...</td>\n",
       "      <td>[Megathread] Mueller Complained That Barr’s Le...</td>\n",
       "      <td>1.556671e+09</td>\n",
       "      <td>-0.300000</td>\n",
       "      <td>0.200000</td>\n",
       "      <td>31866.0</td>\n",
       "      <td>PoliticsModeratorBot</td>\n",
       "      <td>1295279.0</td>\n",
       "      <td>-100.0</td>\n",
       "      <td>1.436468e+09</td>\n",
       "      <td>politics</td>\n",
       "    </tr>\n",
       "    <tr>\n",
       "      <th>1</th>\n",
       "      <td>em7jskj</td>\n",
       "      <td>Wake me up when someone is actually held accou...</td>\n",
       "      <td>0.0</td>\n",
       "      <td>1.556701e+09</td>\n",
       "      <td>1.0</td>\n",
       "      <td>-0.357143</td>\n",
       "      <td>0.478571</td>\n",
       "      <td>Magikarpeles</td>\n",
       "      <td>:flag-gb: United Kingdom</td>\n",
       "      <td>3149.0</td>\n",
       "      <td>...</td>\n",
       "      <td>[Megathread] Mueller Complained That Barr’s Le...</td>\n",
       "      <td>1.556671e+09</td>\n",
       "      <td>-0.300000</td>\n",
       "      <td>0.200000</td>\n",
       "      <td>31879.0</td>\n",
       "      <td>PoliticsModeratorBot</td>\n",
       "      <td>1295279.0</td>\n",
       "      <td>-100.0</td>\n",
       "      <td>1.436468e+09</td>\n",
       "      <td>politics</td>\n",
       "    </tr>\n",
       "    <tr>\n",
       "      <th>2</th>\n",
       "      <td>em7juxa</td>\n",
       "      <td>He’s saying he doesn’t want the government to ...</td>\n",
       "      <td>0.0</td>\n",
       "      <td>1.556701e+09</td>\n",
       "      <td>1.0</td>\n",
       "      <td>-0.500000</td>\n",
       "      <td>0.900000</td>\n",
       "      <td>public_instigator</td>\n",
       "      <td>None</td>\n",
       "      <td>265.0</td>\n",
       "      <td>...</td>\n",
       "      <td>MSNBC Venezuela Coverage Shows Why U.S. Founde...</td>\n",
       "      <td>1.556700e+09</td>\n",
       "      <td>0.000000</td>\n",
       "      <td>0.000000</td>\n",
       "      <td>0.0</td>\n",
       "      <td>rapid_fire_maga</td>\n",
       "      <td>35.0</td>\n",
       "      <td>-13.0</td>\n",
       "      <td>1.555818e+09</td>\n",
       "      <td>politics</td>\n",
       "    </tr>\n",
       "    <tr>\n",
       "      <th>3</th>\n",
       "      <td>em7jxw2</td>\n",
       "      <td>Amending the first amendment is absolutely the...</td>\n",
       "      <td>0.0</td>\n",
       "      <td>1.556701e+09</td>\n",
       "      <td>1.0</td>\n",
       "      <td>-0.212500</td>\n",
       "      <td>0.658333</td>\n",
       "      <td>twdarkeh</td>\n",
       "      <td>:flag-ky: Kentucky</td>\n",
       "      <td>478.0</td>\n",
       "      <td>...</td>\n",
       "      <td>Dear Republicans: Stop using my father, Ronald...</td>\n",
       "      <td>1.556650e+09</td>\n",
       "      <td>0.000000</td>\n",
       "      <td>0.000000</td>\n",
       "      <td>7402.0</td>\n",
       "      <td>segvcore</td>\n",
       "      <td>464103.0</td>\n",
       "      <td>135088.0</td>\n",
       "      <td>1.481249e+09</td>\n",
       "      <td>politics</td>\n",
       "    </tr>\n",
       "    <tr>\n",
       "      <th>4</th>\n",
       "      <td>em7k047</td>\n",
       "      <td>Gross. I am outraged!</td>\n",
       "      <td>0.0</td>\n",
       "      <td>1.556701e+09</td>\n",
       "      <td>1.0</td>\n",
       "      <td>-0.500000</td>\n",
       "      <td>0.500000</td>\n",
       "      <td>Itza_Chicken</td>\n",
       "      <td>None</td>\n",
       "      <td>1.0</td>\n",
       "      <td>...</td>\n",
       "      <td>Blumenthal: This devastates Barr's credibility</td>\n",
       "      <td>1.556674e+09</td>\n",
       "      <td>0.000000</td>\n",
       "      <td>0.000000</td>\n",
       "      <td>1828.0</td>\n",
       "      <td>Nervouskukk0101101</td>\n",
       "      <td>64908.0</td>\n",
       "      <td>6119.0</td>\n",
       "      <td>1.521176e+09</td>\n",
       "      <td>politics</td>\n",
       "    </tr>\n",
       "    <tr>\n",
       "      <th>5</th>\n",
       "      <td>em7k36n</td>\n",
       "      <td>Hes a piece of shit, and anyone who votes for ...</td>\n",
       "      <td>0.0</td>\n",
       "      <td>1.556701e+09</td>\n",
       "      <td>1.0</td>\n",
       "      <td>-0.500000</td>\n",
       "      <td>0.800000</td>\n",
       "      <td>NathanBrazil2</td>\n",
       "      <td>None</td>\n",
       "      <td>72.0</td>\n",
       "      <td>...</td>\n",
       "      <td>Lindsey Graham's new line on Trump's obstructi...</td>\n",
       "      <td>1.556660e+09</td>\n",
       "      <td>0.136364</td>\n",
       "      <td>0.454545</td>\n",
       "      <td>755.0</td>\n",
       "      <td>JLBesq1981</td>\n",
       "      <td>260717.0</td>\n",
       "      <td>74142.0</td>\n",
       "      <td>1.551650e+09</td>\n",
       "      <td>politics</td>\n",
       "    </tr>\n",
       "  </tbody>\n",
       "</table>\n",
       "<p>6 rows × 23 columns</p>\n",
       "</div>"
      ],
      "text/plain": [
       "  Comment_ID                                               Body  \\\n",
       "0    em7jsjl                            Make America Hate Again   \n",
       "1    em7jskj  Wake me up when someone is actually held accou...   \n",
       "2    em7juxa  He’s saying he doesn’t want the government to ...   \n",
       "3    em7jxw2  Amending the first amendment is absolutely the...   \n",
       "4    em7k047                              Gross. I am outraged!   \n",
       "5    em7k36n  Hes a piece of shit, and anyone who votes for ...   \n",
       "\n",
       "   Controversiality  Comment_Date  Comment_Score  Polarity  Subjectivity  \\\n",
       "0               0.0  1.556701e+09            1.0 -0.800000      0.900000   \n",
       "1               0.0  1.556701e+09            1.0 -0.357143      0.478571   \n",
       "2               0.0  1.556701e+09            1.0 -0.500000      0.900000   \n",
       "3               0.0  1.556701e+09            1.0 -0.212500      0.658333   \n",
       "4               0.0  1.556701e+09            1.0 -0.500000      0.500000   \n",
       "5               0.0  1.556701e+09            1.0 -0.500000      0.800000   \n",
       "\n",
       "              Author         Author_flair_text  Author_LKarma    ...      \\\n",
       "0    PunkToTheFuture         :flag-us: America           14.0    ...       \n",
       "1       Magikarpeles  :flag-gb: United Kingdom         3149.0    ...       \n",
       "2  public_instigator                      None          265.0    ...       \n",
       "3           twdarkeh        :flag-ky: Kentucky          478.0    ...       \n",
       "4       Itza_Chicken                      None            1.0    ...       \n",
       "5      NathanBrazil2                      None           72.0    ...       \n",
       "\n",
       "                                    Submission_title  Submission_Date  \\\n",
       "0  [Megathread] Mueller Complained That Barr’s Le...     1.556671e+09   \n",
       "1  [Megathread] Mueller Complained That Barr’s Le...     1.556671e+09   \n",
       "2  MSNBC Venezuela Coverage Shows Why U.S. Founde...     1.556700e+09   \n",
       "3  Dear Republicans: Stop using my father, Ronald...     1.556650e+09   \n",
       "4     Blumenthal: This devastates Barr's credibility     1.556674e+09   \n",
       "5  Lindsey Graham's new line on Trump's obstructi...     1.556660e+09   \n",
       "\n",
       "  Submission_Title_Polarity Submission_Title_Subjectivity  Submission_Score  \\\n",
       "0                 -0.300000                      0.200000           31866.0   \n",
       "1                 -0.300000                      0.200000           31879.0   \n",
       "2                  0.000000                      0.000000               0.0   \n",
       "3                  0.000000                      0.000000            7402.0   \n",
       "4                  0.000000                      0.000000            1828.0   \n",
       "5                  0.136364                      0.454545             755.0   \n",
       "\n",
       "      Submission_Author  Submission_Author_LKarma  Submission_Author_CKarma  \\\n",
       "0  PoliticsModeratorBot                 1295279.0                    -100.0   \n",
       "1  PoliticsModeratorBot                 1295279.0                    -100.0   \n",
       "2       rapid_fire_maga                      35.0                     -13.0   \n",
       "3              segvcore                  464103.0                  135088.0   \n",
       "4    Nervouskukk0101101                   64908.0                    6119.0   \n",
       "5            JLBesq1981                  260717.0                   74142.0   \n",
       "\n",
       "  Submission_Author_Date  Subreddit  \n",
       "0           1.436468e+09   politics  \n",
       "1           1.436468e+09   politics  \n",
       "2           1.555818e+09   politics  \n",
       "3           1.481249e+09   politics  \n",
       "4           1.521176e+09   politics  \n",
       "5           1.551650e+09   politics  \n",
       "\n",
       "[6 rows x 23 columns]"
      ]
     },
     "execution_count": 94,
     "metadata": {},
     "output_type": "execute_result"
    }
   ],
   "source": [
    "results"
   ]
  },
  {
   "cell_type": "code",
   "execution_count": 95,
   "metadata": {},
   "outputs": [
    {
     "data": {
      "text/plain": [
       "'{\"Comment_ID\":\"em7jsjl\",\"Body\":\"Make America Hate Again\",\"Controversiality\":0.0,\"Comment_Date\":1556700846.0,\"Comment_Score\":1.0,\"Polarity\":-0.8,\"Subjectivity\":0.9,\"Author\":\"PunkToTheFuture\",\"Author_flair_text\":\":flag-us: America\",\"Author_LKarma\":14.0,\"Author_CKarma\":18214.0,\"Author_Date\":1495475097.0,\"Submission_ID\":\"bjaxml\",\"Submission_title\":\"[Megathread] Mueller Complained That Barr\\\\u2019s Letter Did Not Capture \\\\u2018Context\\\\u2019 of Trump Probe\",\"Submission_Date\":1556670720.0,\"Submission_Title_Polarity\":-0.3,\"Submission_Title_Subjectivity\":0.2,\"Submission_Score\":31866.0,\"Submission_Author\":\"PoliticsModeratorBot\",\"Submission_Author_LKarma\":1295279.0,\"Submission_Author_CKarma\":-100.0,\"Submission_Author_Date\":1436468186.0,\"Subreddit\":\"politics\"}'"
      ]
     },
     "execution_count": 95,
     "metadata": {},
     "output_type": "execute_result"
    }
   ],
   "source": [
    "results.loc[0].to_json()"
   ]
  },
  {
   "cell_type": "code",
   "execution_count": 96,
   "metadata": {},
   "outputs": [],
   "source": [
    "import seaborn as sns"
   ]
  },
  {
   "cell_type": "code",
   "execution_count": 97,
   "metadata": {},
   "outputs": [
    {
     "data": {
      "text/plain": [
       "<matplotlib.axes._subplots.AxesSubplot at 0x11b45a38860>"
      ]
     },
     "execution_count": 97,
     "metadata": {},
     "output_type": "execute_result"
    },
    {
     "data": {
      "image/png": "[encoded data removed]",
      "text/plain": [
       "<Figure size 432x288 with 2 Axes>"
      ]
     },
     "metadata": {},
     "output_type": "display_data"
    }
   ],
   "source": [
    "sns.heatmap(results.isnull(), yticklabels=False)"
   ]
  },
  {
   "cell_type": "code",
   "execution_count": null,
   "metadata": {},
   "outputs": [],
   "source": []
  },
  {
   "cell_type": "code",
   "execution_count": null,
   "metadata": {},
   "outputs": [],
   "source": []
  }
 ],
 "metadata": {
  "kernelspec": {
   "display_name": "Python [conda env:basicdata]",
   "language": "python",
   "name": "conda-env-basicdata-py"
  },
  "language_info": {
   "codemirror_mode": {
    "name": "ipython",
    "version": 3
   },
   "file_extension": ".py",
   "mimetype": "text/x-python",
   "name": "python",
   "nbconvert_exporter": "python",
   "pygments_lexer": "ipython3",
   "version": "3.6.6"
  }
 },
 "nbformat": 4,
 "nbformat_minor": 2
}
